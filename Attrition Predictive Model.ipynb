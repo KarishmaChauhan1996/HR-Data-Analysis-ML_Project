{
 "cells": [
  {
   "cell_type": "code",
   "execution_count": 3,
   "id": "0cbc5440-122c-4fa2-980b-13a17c20c92c",
   "metadata": {},
   "outputs": [],
   "source": [
    "import pandas as pd\n",
    "import matplotlib.pyplot as plt\n",
    "import seaborn as sns"
   ]
  },
  {
   "cell_type": "code",
   "execution_count": 4,
   "id": "1b903368-8b56-4eb1-9ac8-ee6fb373b28c",
   "metadata": {},
   "outputs": [],
   "source": [
    "#import final_data derived from Task3a\n",
    "\n",
    "df = pd.read_csv('final_data.csv')"
   ]
  },
  {
   "cell_type": "code",
   "execution_count": 5,
   "id": "13659a8b-5ea2-4b41-89ec-3b0b39f5e7f2",
   "metadata": {},
   "outputs": [
    {
     "data": {
      "text/plain": [
       "Attrition\n",
       "No     1233\n",
       "Yes     237\n",
       "Name: count, dtype: int64"
      ]
     },
     "execution_count": 5,
     "metadata": {},
     "output_type": "execute_result"
    }
   ],
   "source": [
    "df.Attrition.value_counts()"
   ]
  },
  {
   "cell_type": "code",
   "execution_count": 6,
   "id": "4f3958ba-f376-4010-ac40-72fa5dc53fb3",
   "metadata": {
    "scrolled": true
   },
   "outputs": [
    {
     "data": {
      "text/html": [
       "<div>\n",
       "<style scoped>\n",
       "    .dataframe tbody tr th:only-of-type {\n",
       "        vertical-align: middle;\n",
       "    }\n",
       "\n",
       "    .dataframe tbody tr th {\n",
       "        vertical-align: top;\n",
       "    }\n",
       "\n",
       "    .dataframe thead th {\n",
       "        text-align: right;\n",
       "    }\n",
       "</style>\n",
       "<table border=\"1\" class=\"dataframe\">\n",
       "  <thead>\n",
       "    <tr style=\"text-align: right;\">\n",
       "      <th></th>\n",
       "      <th>EmployeeNumber</th>\n",
       "      <th>Attrition</th>\n",
       "      <th>Age</th>\n",
       "      <th>Education</th>\n",
       "      <th>EducationField</th>\n",
       "      <th>Gender</th>\n",
       "      <th>MaritalStatus</th>\n",
       "      <th>Over18</th>\n",
       "      <th>EnvironmentSatisfaction</th>\n",
       "      <th>JobInvolvement_x</th>\n",
       "      <th>...</th>\n",
       "      <th>NumCompaniesWorked</th>\n",
       "      <th>OverTime</th>\n",
       "      <th>PercentSalaryHike_last_year</th>\n",
       "      <th>PerformanceRating</th>\n",
       "      <th>StockOptionLevel</th>\n",
       "      <th>TrainingTimesLastYear</th>\n",
       "      <th>YearsAtCompany</th>\n",
       "      <th>YearsInCurrentRole</th>\n",
       "      <th>YearsSinceLastPromotion</th>\n",
       "      <th>YearsWithCurrManager</th>\n",
       "    </tr>\n",
       "  </thead>\n",
       "  <tbody>\n",
       "    <tr>\n",
       "      <th>0</th>\n",
       "      <td>1</td>\n",
       "      <td>Yes</td>\n",
       "      <td>41.0</td>\n",
       "      <td>College</td>\n",
       "      <td>Life Sciences</td>\n",
       "      <td>Female</td>\n",
       "      <td>Single</td>\n",
       "      <td>Y</td>\n",
       "      <td>Medium</td>\n",
       "      <td>High</td>\n",
       "      <td>...</td>\n",
       "      <td>8.0</td>\n",
       "      <td>Yes</td>\n",
       "      <td>11.0</td>\n",
       "      <td>Excellent</td>\n",
       "      <td>0.0</td>\n",
       "      <td>0</td>\n",
       "      <td>6</td>\n",
       "      <td>4</td>\n",
       "      <td>0</td>\n",
       "      <td>5</td>\n",
       "    </tr>\n",
       "    <tr>\n",
       "      <th>1</th>\n",
       "      <td>4</td>\n",
       "      <td>Yes</td>\n",
       "      <td>37.0</td>\n",
       "      <td>College</td>\n",
       "      <td>Other</td>\n",
       "      <td>Male</td>\n",
       "      <td>Single</td>\n",
       "      <td>Y</td>\n",
       "      <td>Very High</td>\n",
       "      <td>Medium</td>\n",
       "      <td>...</td>\n",
       "      <td>6.0</td>\n",
       "      <td>Yes</td>\n",
       "      <td>15.0</td>\n",
       "      <td>Excellent</td>\n",
       "      <td>0.0</td>\n",
       "      <td>3</td>\n",
       "      <td>0</td>\n",
       "      <td>0</td>\n",
       "      <td>0</td>\n",
       "      <td>0</td>\n",
       "    </tr>\n",
       "    <tr>\n",
       "      <th>2</th>\n",
       "      <td>19</td>\n",
       "      <td>Yes</td>\n",
       "      <td>28.0</td>\n",
       "      <td>Bachelor</td>\n",
       "      <td>Life Sciences</td>\n",
       "      <td>Male</td>\n",
       "      <td>Single</td>\n",
       "      <td>Y</td>\n",
       "      <td>High</td>\n",
       "      <td>Medium</td>\n",
       "      <td>...</td>\n",
       "      <td>5.0</td>\n",
       "      <td>Yes</td>\n",
       "      <td>14.0</td>\n",
       "      <td>Excellent</td>\n",
       "      <td>0.0</td>\n",
       "      <td>4</td>\n",
       "      <td>4</td>\n",
       "      <td>2</td>\n",
       "      <td>0</td>\n",
       "      <td>3</td>\n",
       "    </tr>\n",
       "    <tr>\n",
       "      <th>3</th>\n",
       "      <td>27</td>\n",
       "      <td>Yes</td>\n",
       "      <td>36.0</td>\n",
       "      <td>Master</td>\n",
       "      <td>Life Sciences</td>\n",
       "      <td>Male</td>\n",
       "      <td>Single</td>\n",
       "      <td>Y</td>\n",
       "      <td>High</td>\n",
       "      <td>Medium</td>\n",
       "      <td>...</td>\n",
       "      <td>7.0</td>\n",
       "      <td>No</td>\n",
       "      <td>23.0</td>\n",
       "      <td>Outstanding</td>\n",
       "      <td>0.0</td>\n",
       "      <td>4</td>\n",
       "      <td>5</td>\n",
       "      <td>3</td>\n",
       "      <td>0</td>\n",
       "      <td>3</td>\n",
       "    </tr>\n",
       "    <tr>\n",
       "      <th>4</th>\n",
       "      <td>31</td>\n",
       "      <td>Yes</td>\n",
       "      <td>34.0</td>\n",
       "      <td>Below College</td>\n",
       "      <td>Medical</td>\n",
       "      <td>Male</td>\n",
       "      <td>Single</td>\n",
       "      <td>Y</td>\n",
       "      <td>Medium</td>\n",
       "      <td>High</td>\n",
       "      <td>...</td>\n",
       "      <td>2.0</td>\n",
       "      <td>No</td>\n",
       "      <td>11.0</td>\n",
       "      <td>Excellent</td>\n",
       "      <td>0.0</td>\n",
       "      <td>2</td>\n",
       "      <td>4</td>\n",
       "      <td>2</td>\n",
       "      <td>1</td>\n",
       "      <td>3</td>\n",
       "    </tr>\n",
       "  </tbody>\n",
       "</table>\n",
       "<p>5 rows × 30 columns</p>\n",
       "</div>"
      ],
      "text/plain": [
       "   EmployeeNumber Attrition   Age      Education EducationField  Gender  \\\n",
       "0               1       Yes  41.0        College  Life Sciences  Female   \n",
       "1               4       Yes  37.0        College          Other    Male   \n",
       "2              19       Yes  28.0       Bachelor  Life Sciences    Male   \n",
       "3              27       Yes  36.0         Master  Life Sciences    Male   \n",
       "4              31       Yes  34.0  Below College        Medical    Male   \n",
       "\n",
       "  MaritalStatus Over18 EnvironmentSatisfaction JobInvolvement_x  ...  \\\n",
       "0        Single      Y                  Medium             High  ...   \n",
       "1        Single      Y               Very High           Medium  ...   \n",
       "2        Single      Y                    High           Medium  ...   \n",
       "3        Single      Y                    High           Medium  ...   \n",
       "4        Single      Y                  Medium             High  ...   \n",
       "\n",
       "  NumCompaniesWorked OverTime PercentSalaryHike_last_year PerformanceRating  \\\n",
       "0                8.0      Yes                        11.0         Excellent   \n",
       "1                6.0      Yes                        15.0         Excellent   \n",
       "2                5.0      Yes                        14.0         Excellent   \n",
       "3                7.0       No                        23.0       Outstanding   \n",
       "4                2.0       No                        11.0         Excellent   \n",
       "\n",
       "  StockOptionLevel  TrainingTimesLastYear YearsAtCompany  YearsInCurrentRole  \\\n",
       "0              0.0                      0              6                   4   \n",
       "1              0.0                      3              0                   0   \n",
       "2              0.0                      4              4                   2   \n",
       "3              0.0                      4              5                   3   \n",
       "4              0.0                      2              4                   2   \n",
       "\n",
       "  YearsSinceLastPromotion  YearsWithCurrManager  \n",
       "0                       0                     5  \n",
       "1                       0                     0  \n",
       "2                       0                     3  \n",
       "3                       0                     3  \n",
       "4                       1                     3  \n",
       "\n",
       "[5 rows x 30 columns]"
      ]
     },
     "execution_count": 6,
     "metadata": {},
     "output_type": "execute_result"
    }
   ],
   "source": [
    "df.head()"
   ]
  },
  {
   "cell_type": "code",
   "execution_count": 7,
   "id": "3e214152-caee-4b76-81cb-47f51d2aaa2d",
   "metadata": {},
   "outputs": [
    {
     "data": {
      "text/html": [
       "<div>\n",
       "<style scoped>\n",
       "    .dataframe tbody tr th:only-of-type {\n",
       "        vertical-align: middle;\n",
       "    }\n",
       "\n",
       "    .dataframe tbody tr th {\n",
       "        vertical-align: top;\n",
       "    }\n",
       "\n",
       "    .dataframe thead th {\n",
       "        text-align: right;\n",
       "    }\n",
       "</style>\n",
       "<table border=\"1\" class=\"dataframe\">\n",
       "  <thead>\n",
       "    <tr style=\"text-align: right;\">\n",
       "      <th></th>\n",
       "      <th>EmployeeNumber</th>\n",
       "      <th>Age</th>\n",
       "      <th>DistanceFromHome</th>\n",
       "      <th>JobLevel</th>\n",
       "      <th>MonthlySalary</th>\n",
       "      <th>NumCompaniesWorked</th>\n",
       "      <th>PercentSalaryHike_last_year</th>\n",
       "      <th>StockOptionLevel</th>\n",
       "      <th>TrainingTimesLastYear</th>\n",
       "      <th>YearsAtCompany</th>\n",
       "      <th>YearsInCurrentRole</th>\n",
       "      <th>YearsSinceLastPromotion</th>\n",
       "      <th>YearsWithCurrManager</th>\n",
       "    </tr>\n",
       "  </thead>\n",
       "  <tbody>\n",
       "    <tr>\n",
       "      <th>count</th>\n",
       "      <td>1470.000000</td>\n",
       "      <td>1470.000000</td>\n",
       "      <td>1470.000000</td>\n",
       "      <td>1470.000000</td>\n",
       "      <td>1470.000000</td>\n",
       "      <td>1470.000000</td>\n",
       "      <td>1470.000000</td>\n",
       "      <td>1470.000000</td>\n",
       "      <td>1470.000000</td>\n",
       "      <td>1470.000000</td>\n",
       "      <td>1470.000000</td>\n",
       "      <td>1470.000000</td>\n",
       "      <td>1470.000000</td>\n",
       "    </tr>\n",
       "    <tr>\n",
       "      <th>mean</th>\n",
       "      <td>1024.865306</td>\n",
       "      <td>36.908163</td>\n",
       "      <td>9.234014</td>\n",
       "      <td>2.064626</td>\n",
       "      <td>5457.584354</td>\n",
       "      <td>2.692517</td>\n",
       "      <td>15.210884</td>\n",
       "      <td>0.794558</td>\n",
       "      <td>2.799320</td>\n",
       "      <td>7.008163</td>\n",
       "      <td>4.229252</td>\n",
       "      <td>2.187755</td>\n",
       "      <td>4.123129</td>\n",
       "    </tr>\n",
       "    <tr>\n",
       "      <th>std</th>\n",
       "      <td>602.024335</td>\n",
       "      <td>9.124903</td>\n",
       "      <td>8.263673</td>\n",
       "      <td>1.106593</td>\n",
       "      <td>3186.672684</td>\n",
       "      <td>2.496426</td>\n",
       "      <td>3.659115</td>\n",
       "      <td>0.851842</td>\n",
       "      <td>1.289271</td>\n",
       "      <td>6.126525</td>\n",
       "      <td>3.623137</td>\n",
       "      <td>3.222430</td>\n",
       "      <td>3.568136</td>\n",
       "    </tr>\n",
       "    <tr>\n",
       "      <th>min</th>\n",
       "      <td>1.000000</td>\n",
       "      <td>18.000000</td>\n",
       "      <td>1.000000</td>\n",
       "      <td>1.000000</td>\n",
       "      <td>1009.000000</td>\n",
       "      <td>0.000000</td>\n",
       "      <td>11.000000</td>\n",
       "      <td>0.000000</td>\n",
       "      <td>0.000000</td>\n",
       "      <td>0.000000</td>\n",
       "      <td>0.000000</td>\n",
       "      <td>0.000000</td>\n",
       "      <td>0.000000</td>\n",
       "    </tr>\n",
       "    <tr>\n",
       "      <th>25%</th>\n",
       "      <td>491.250000</td>\n",
       "      <td>30.000000</td>\n",
       "      <td>2.000000</td>\n",
       "      <td>1.000000</td>\n",
       "      <td>2926.750000</td>\n",
       "      <td>1.000000</td>\n",
       "      <td>12.000000</td>\n",
       "      <td>0.000000</td>\n",
       "      <td>2.000000</td>\n",
       "      <td>3.000000</td>\n",
       "      <td>2.000000</td>\n",
       "      <td>0.000000</td>\n",
       "      <td>2.000000</td>\n",
       "    </tr>\n",
       "    <tr>\n",
       "      <th>50%</th>\n",
       "      <td>1020.500000</td>\n",
       "      <td>36.000000</td>\n",
       "      <td>7.000000</td>\n",
       "      <td>2.000000</td>\n",
       "      <td>4930.000000</td>\n",
       "      <td>2.000000</td>\n",
       "      <td>14.000000</td>\n",
       "      <td>1.000000</td>\n",
       "      <td>3.000000</td>\n",
       "      <td>5.000000</td>\n",
       "      <td>3.000000</td>\n",
       "      <td>1.000000</td>\n",
       "      <td>3.000000</td>\n",
       "    </tr>\n",
       "    <tr>\n",
       "      <th>75%</th>\n",
       "      <td>1555.750000</td>\n",
       "      <td>43.000000</td>\n",
       "      <td>14.000000</td>\n",
       "      <td>3.000000</td>\n",
       "      <td>6577.750000</td>\n",
       "      <td>4.000000</td>\n",
       "      <td>18.000000</td>\n",
       "      <td>1.000000</td>\n",
       "      <td>3.000000</td>\n",
       "      <td>9.000000</td>\n",
       "      <td>7.000000</td>\n",
       "      <td>3.000000</td>\n",
       "      <td>7.000000</td>\n",
       "    </tr>\n",
       "    <tr>\n",
       "      <th>max</th>\n",
       "      <td>2068.000000</td>\n",
       "      <td>60.000000</td>\n",
       "      <td>60.000000</td>\n",
       "      <td>5.000000</td>\n",
       "      <td>16555.000000</td>\n",
       "      <td>9.000000</td>\n",
       "      <td>25.000000</td>\n",
       "      <td>3.000000</td>\n",
       "      <td>6.000000</td>\n",
       "      <td>40.000000</td>\n",
       "      <td>18.000000</td>\n",
       "      <td>15.000000</td>\n",
       "      <td>17.000000</td>\n",
       "    </tr>\n",
       "  </tbody>\n",
       "</table>\n",
       "</div>"
      ],
      "text/plain": [
       "       EmployeeNumber          Age  DistanceFromHome     JobLevel  \\\n",
       "count     1470.000000  1470.000000       1470.000000  1470.000000   \n",
       "mean      1024.865306    36.908163          9.234014     2.064626   \n",
       "std        602.024335     9.124903          8.263673     1.106593   \n",
       "min          1.000000    18.000000          1.000000     1.000000   \n",
       "25%        491.250000    30.000000          2.000000     1.000000   \n",
       "50%       1020.500000    36.000000          7.000000     2.000000   \n",
       "75%       1555.750000    43.000000         14.000000     3.000000   \n",
       "max       2068.000000    60.000000         60.000000     5.000000   \n",
       "\n",
       "       MonthlySalary  NumCompaniesWorked  PercentSalaryHike_last_year  \\\n",
       "count    1470.000000         1470.000000                  1470.000000   \n",
       "mean     5457.584354            2.692517                    15.210884   \n",
       "std      3186.672684            2.496426                     3.659115   \n",
       "min      1009.000000            0.000000                    11.000000   \n",
       "25%      2926.750000            1.000000                    12.000000   \n",
       "50%      4930.000000            2.000000                    14.000000   \n",
       "75%      6577.750000            4.000000                    18.000000   \n",
       "max     16555.000000            9.000000                    25.000000   \n",
       "\n",
       "       StockOptionLevel  TrainingTimesLastYear  YearsAtCompany  \\\n",
       "count       1470.000000            1470.000000     1470.000000   \n",
       "mean           0.794558               2.799320        7.008163   \n",
       "std            0.851842               1.289271        6.126525   \n",
       "min            0.000000               0.000000        0.000000   \n",
       "25%            0.000000               2.000000        3.000000   \n",
       "50%            1.000000               3.000000        5.000000   \n",
       "75%            1.000000               3.000000        9.000000   \n",
       "max            3.000000               6.000000       40.000000   \n",
       "\n",
       "       YearsInCurrentRole  YearsSinceLastPromotion  YearsWithCurrManager  \n",
       "count         1470.000000              1470.000000           1470.000000  \n",
       "mean             4.229252                 2.187755              4.123129  \n",
       "std              3.623137                 3.222430              3.568136  \n",
       "min              0.000000                 0.000000              0.000000  \n",
       "25%              2.000000                 0.000000              2.000000  \n",
       "50%              3.000000                 1.000000              3.000000  \n",
       "75%              7.000000                 3.000000              7.000000  \n",
       "max             18.000000                15.000000             17.000000  "
      ]
     },
     "execution_count": 7,
     "metadata": {},
     "output_type": "execute_result"
    }
   ],
   "source": [
    "df.describe()"
   ]
  },
  {
   "cell_type": "code",
   "execution_count": 8,
   "id": "d89f94a0-a8cb-45d1-a5e0-cc26bb871d53",
   "metadata": {
    "scrolled": true
   },
   "outputs": [
    {
     "data": {
      "text/plain": [
       "EmployeeNumber                      0\n",
       "Attrition                           0\n",
       "Age                                 0\n",
       "Education                           0\n",
       "EducationField                      0\n",
       "Gender                              0\n",
       "MaritalStatus                       0\n",
       "Over18                              0\n",
       "EnvironmentSatisfaction             0\n",
       "JobInvolvement_x                    0\n",
       "JobSatisfaction                     0\n",
       "Manager_RelationshipSatisfaction    0\n",
       "WorkLifeBalance                     0\n",
       "Department                          0\n",
       "BusinessTravel                      0\n",
       "DistanceFromHome                    0\n",
       "JobInvolvement_y                    0\n",
       "JobLevel                            0\n",
       "JobRole                             0\n",
       "MonthlySalary                       0\n",
       "NumCompaniesWorked                  0\n",
       "OverTime                            0\n",
       "PercentSalaryHike_last_year         0\n",
       "PerformanceRating                   0\n",
       "StockOptionLevel                    0\n",
       "TrainingTimesLastYear               0\n",
       "YearsAtCompany                      0\n",
       "YearsInCurrentRole                  0\n",
       "YearsSinceLastPromotion             0\n",
       "YearsWithCurrManager                0\n",
       "dtype: int64"
      ]
     },
     "execution_count": 8,
     "metadata": {},
     "output_type": "execute_result"
    }
   ],
   "source": [
    "df.isna().sum()"
   ]
  },
  {
   "cell_type": "code",
   "execution_count": 9,
   "id": "90b33918-f571-4ca9-b70b-fe5b369e554d",
   "metadata": {},
   "outputs": [
    {
     "data": {
      "text/plain": [
       "0"
      ]
     },
     "execution_count": 9,
     "metadata": {},
     "output_type": "execute_result"
    }
   ],
   "source": [
    "df.duplicated().sum()"
   ]
  },
  {
   "cell_type": "code",
   "execution_count": 10,
   "id": "1a027795-b192-4df2-84fa-e321a00f1164",
   "metadata": {},
   "outputs": [],
   "source": [
    "#Encode the df \n",
    "\n",
    "import pandas as pd\n",
    "\n",
    "def encode_categorical(dataframe, label_encode_cols=None, one_hot_encode_cols=None):\n",
    "\n",
    "    df_encoded = df.copy()\n",
    "    \n",
    "    # Label Encoding\n",
    "    if label_encode_cols:\n",
    "        for col in label_encode_cols:\n",
    "            df_encoded[col] = df_encoded[col].map({'Yes': 1, 'No': 0, 'Y': 1, 'N': 0, 'Female':1, 'Male':0, 'Excellent':1, 'Outstanding': 0})\n",
    "    \n",
    "    # One-Hot Encoding\n",
    "    if one_hot_encode_cols:\n",
    "        df_encoded = pd.get_dummies(df_encoded, columns=one_hot_encode_cols, drop_first=True)\n",
    "        df_encoded = df_encoded.fillna(0).astype(int)\n",
    "\n",
    "    \n",
    "    return df_encoded\n",
    "\n",
    "\n",
    "\n",
    "# Define the columns for encoding\n",
    "label_encode_cols = ['Attrition', 'Over18', 'OverTime',  'Gender', 'PerformanceRating']\n",
    "one_hot_encode_cols = ['Education', 'EducationField', 'Gender', 'MaritalStatus', \n",
    "                       'EnvironmentSatisfaction', 'JobInvolvement_x','JobSatisfaction', 'BusinessTravel',\n",
    "                       'Manager_RelationshipSatisfaction', 'WorkLifeBalance',  'Department', 'JobInvolvement_y', 'JobLevel', 'JobRole' ]\n",
    "\n",
    "# Encode the DataFrame\n",
    "encoded_df = encode_categorical(df, label_encode_cols, one_hot_encode_cols)\n",
    "\n"
   ]
  },
  {
   "cell_type": "code",
   "execution_count": 11,
   "id": "6211627a-009b-4a0d-920a-aadfd952afae",
   "metadata": {},
   "outputs": [
    {
     "data": {
      "text/html": [
       "<div>\n",
       "<style scoped>\n",
       "    .dataframe tbody tr th:only-of-type {\n",
       "        vertical-align: middle;\n",
       "    }\n",
       "\n",
       "    .dataframe tbody tr th {\n",
       "        vertical-align: top;\n",
       "    }\n",
       "\n",
       "    .dataframe thead th {\n",
       "        text-align: right;\n",
       "    }\n",
       "</style>\n",
       "<table border=\"1\" class=\"dataframe\">\n",
       "  <thead>\n",
       "    <tr style=\"text-align: right;\">\n",
       "      <th></th>\n",
       "      <th>EmployeeNumber</th>\n",
       "      <th>Attrition</th>\n",
       "      <th>Age</th>\n",
       "      <th>Over18</th>\n",
       "      <th>DistanceFromHome</th>\n",
       "      <th>MonthlySalary</th>\n",
       "      <th>NumCompaniesWorked</th>\n",
       "      <th>OverTime</th>\n",
       "      <th>PercentSalaryHike_last_year</th>\n",
       "      <th>PerformanceRating</th>\n",
       "      <th>...</th>\n",
       "      <th>JobLevel_4.0</th>\n",
       "      <th>JobLevel_5.0</th>\n",
       "      <th>JobRole_Human Resources</th>\n",
       "      <th>JobRole_Laboratory Technician</th>\n",
       "      <th>JobRole_Manager</th>\n",
       "      <th>JobRole_Manufacturing Director</th>\n",
       "      <th>JobRole_Research Director</th>\n",
       "      <th>JobRole_Research Scientist</th>\n",
       "      <th>JobRole_Sales Executive</th>\n",
       "      <th>JobRole_Sales Representative</th>\n",
       "    </tr>\n",
       "  </thead>\n",
       "  <tbody>\n",
       "    <tr>\n",
       "      <th>0</th>\n",
       "      <td>1</td>\n",
       "      <td>1</td>\n",
       "      <td>41</td>\n",
       "      <td>1</td>\n",
       "      <td>1</td>\n",
       "      <td>5993</td>\n",
       "      <td>8</td>\n",
       "      <td>1</td>\n",
       "      <td>11</td>\n",
       "      <td>1</td>\n",
       "      <td>...</td>\n",
       "      <td>0</td>\n",
       "      <td>0</td>\n",
       "      <td>0</td>\n",
       "      <td>0</td>\n",
       "      <td>0</td>\n",
       "      <td>0</td>\n",
       "      <td>0</td>\n",
       "      <td>0</td>\n",
       "      <td>1</td>\n",
       "      <td>0</td>\n",
       "    </tr>\n",
       "    <tr>\n",
       "      <th>1</th>\n",
       "      <td>4</td>\n",
       "      <td>1</td>\n",
       "      <td>37</td>\n",
       "      <td>1</td>\n",
       "      <td>2</td>\n",
       "      <td>2090</td>\n",
       "      <td>6</td>\n",
       "      <td>1</td>\n",
       "      <td>15</td>\n",
       "      <td>1</td>\n",
       "      <td>...</td>\n",
       "      <td>0</td>\n",
       "      <td>0</td>\n",
       "      <td>0</td>\n",
       "      <td>1</td>\n",
       "      <td>0</td>\n",
       "      <td>0</td>\n",
       "      <td>0</td>\n",
       "      <td>0</td>\n",
       "      <td>0</td>\n",
       "      <td>0</td>\n",
       "    </tr>\n",
       "    <tr>\n",
       "      <th>2</th>\n",
       "      <td>19</td>\n",
       "      <td>1</td>\n",
       "      <td>28</td>\n",
       "      <td>1</td>\n",
       "      <td>24</td>\n",
       "      <td>2028</td>\n",
       "      <td>5</td>\n",
       "      <td>1</td>\n",
       "      <td>14</td>\n",
       "      <td>1</td>\n",
       "      <td>...</td>\n",
       "      <td>0</td>\n",
       "      <td>0</td>\n",
       "      <td>0</td>\n",
       "      <td>1</td>\n",
       "      <td>0</td>\n",
       "      <td>0</td>\n",
       "      <td>0</td>\n",
       "      <td>0</td>\n",
       "      <td>0</td>\n",
       "      <td>0</td>\n",
       "    </tr>\n",
       "    <tr>\n",
       "      <th>3</th>\n",
       "      <td>27</td>\n",
       "      <td>1</td>\n",
       "      <td>36</td>\n",
       "      <td>1</td>\n",
       "      <td>9</td>\n",
       "      <td>3407</td>\n",
       "      <td>7</td>\n",
       "      <td>0</td>\n",
       "      <td>23</td>\n",
       "      <td>0</td>\n",
       "      <td>...</td>\n",
       "      <td>0</td>\n",
       "      <td>0</td>\n",
       "      <td>0</td>\n",
       "      <td>0</td>\n",
       "      <td>0</td>\n",
       "      <td>0</td>\n",
       "      <td>0</td>\n",
       "      <td>0</td>\n",
       "      <td>0</td>\n",
       "      <td>1</td>\n",
       "    </tr>\n",
       "    <tr>\n",
       "      <th>4</th>\n",
       "      <td>31</td>\n",
       "      <td>1</td>\n",
       "      <td>34</td>\n",
       "      <td>1</td>\n",
       "      <td>6</td>\n",
       "      <td>2960</td>\n",
       "      <td>2</td>\n",
       "      <td>0</td>\n",
       "      <td>11</td>\n",
       "      <td>1</td>\n",
       "      <td>...</td>\n",
       "      <td>0</td>\n",
       "      <td>0</td>\n",
       "      <td>0</td>\n",
       "      <td>0</td>\n",
       "      <td>0</td>\n",
       "      <td>0</td>\n",
       "      <td>0</td>\n",
       "      <td>1</td>\n",
       "      <td>0</td>\n",
       "      <td>0</td>\n",
       "    </tr>\n",
       "  </tbody>\n",
       "</table>\n",
       "<p>5 rows × 63 columns</p>\n",
       "</div>"
      ],
      "text/plain": [
       "   EmployeeNumber  Attrition  Age  Over18  DistanceFromHome  MonthlySalary  \\\n",
       "0               1          1   41       1                 1           5993   \n",
       "1               4          1   37       1                 2           2090   \n",
       "2              19          1   28       1                24           2028   \n",
       "3              27          1   36       1                 9           3407   \n",
       "4              31          1   34       1                 6           2960   \n",
       "\n",
       "   NumCompaniesWorked  OverTime  PercentSalaryHike_last_year  \\\n",
       "0                   8         1                           11   \n",
       "1                   6         1                           15   \n",
       "2                   5         1                           14   \n",
       "3                   7         0                           23   \n",
       "4                   2         0                           11   \n",
       "\n",
       "   PerformanceRating  ...  JobLevel_4.0  JobLevel_5.0  \\\n",
       "0                  1  ...             0             0   \n",
       "1                  1  ...             0             0   \n",
       "2                  1  ...             0             0   \n",
       "3                  0  ...             0             0   \n",
       "4                  1  ...             0             0   \n",
       "\n",
       "   JobRole_Human Resources  JobRole_Laboratory Technician  JobRole_Manager  \\\n",
       "0                        0                              0                0   \n",
       "1                        0                              1                0   \n",
       "2                        0                              1                0   \n",
       "3                        0                              0                0   \n",
       "4                        0                              0                0   \n",
       "\n",
       "   JobRole_Manufacturing Director  JobRole_Research Director  \\\n",
       "0                               0                          0   \n",
       "1                               0                          0   \n",
       "2                               0                          0   \n",
       "3                               0                          0   \n",
       "4                               0                          0   \n",
       "\n",
       "   JobRole_Research Scientist  JobRole_Sales Executive  \\\n",
       "0                           0                        1   \n",
       "1                           0                        0   \n",
       "2                           0                        0   \n",
       "3                           0                        0   \n",
       "4                           1                        0   \n",
       "\n",
       "   JobRole_Sales Representative  \n",
       "0                             0  \n",
       "1                             0  \n",
       "2                             0  \n",
       "3                             1  \n",
       "4                             0  \n",
       "\n",
       "[5 rows x 63 columns]"
      ]
     },
     "execution_count": 11,
     "metadata": {},
     "output_type": "execute_result"
    }
   ],
   "source": [
    "encoded_df.head()"
   ]
  },
  {
   "cell_type": "markdown",
   "id": "d229e177-650b-4f45-b5dd-19e3f263c235",
   "metadata": {},
   "source": [
    "## Feature Selection"
   ]
  },
  {
   "cell_type": "code",
   "execution_count": 12,
   "id": "0e28b977-deac-47c8-9084-bb686592a167",
   "metadata": {
    "scrolled": true
   },
   "outputs": [
    {
     "name": "stdout",
     "output_type": "stream",
     "text": [
      "Correlation between satisfaction variables and Attrition:\n",
      "Attrition                          1.000000\n",
      "MaritalStatus_Single               0.172189\n",
      "DistanceFromHome                   0.082528\n",
      "EducationField_Technical Degree    0.069355\n",
      "EducationField_Marketing           0.056899\n",
      "Over18                             0.028067\n",
      "Over18                             0.028067\n",
      "Education_Below College            0.020777\n",
      "Education_College                 -0.010840\n",
      "EducationField_Other              -0.020046\n",
      "Education_Master                  -0.025024\n",
      "Education_Doctor                  -0.028507\n",
      "Gender_1                          -0.028853\n",
      "EducationField_Life Sciences      -0.033131\n",
      "EducationField_Medical            -0.046384\n",
      "MaritalStatus_Married             -0.090984\n",
      "Age                               -0.158636\n",
      "Name: Attrition, dtype: float64\n"
     ]
    }
   ],
   "source": [
    "\n",
    "# Correlation of demographic variables with Attrition\n",
    "\n",
    "demographic_cols = ['Age', 'Over18', 'DistanceFromHome','Over18', 'Gender_1',\n",
    "       'MaritalStatus_Married', 'MaritalStatus_Single', 'Education_Below College', 'Education_College', 'Education_Doctor',\n",
    "       'Education_Master', 'EducationField_Life Sciences',\n",
    "       'EducationField_Marketing', 'EducationField_Medical',\n",
    "       'EducationField_Other', 'EducationField_Technical Degree']\n",
    "\n",
    "# Calculate correlations\n",
    "demographic_corr = encoded_df[demographic_cols + ['Attrition']].corr()\n",
    "\n",
    "# Display the correlation matrix for satisfaction variables\n",
    "print(\"Correlation between satisfaction variables and Attrition:\")\n",
    "print(demographic_corr['Attrition'].sort_values(ascending=False))\n",
    "\n"
   ]
  },
  {
   "cell_type": "code",
   "execution_count": 13,
   "id": "68194bfc-66bc-4a2f-aec9-a9e884322dd8",
   "metadata": {},
   "outputs": [
    {
     "name": "stdout",
     "output_type": "stream",
     "text": [
      "Correlation between satisfaction variables and Attrition:\n",
      "Attrition                                     1.000000\n",
      "EnvironmentSatisfaction_Low                   0.122819\n",
      "JobSatisfaction_Low                           0.090329\n",
      "Manager_RelationshipSatisfaction_Low          0.059222\n",
      "JobSatisfaction_Medium                        0.004038\n",
      "EnvironmentSatisfaction_Medium               -0.015267\n",
      "Manager_RelationshipSatisfaction_Medium      -0.017611\n",
      "Manager_RelationshipSatisfaction_Medium      -0.017611\n",
      "Manager_RelationshipSatisfaction_Very High   -0.022940\n",
      "JobSatisfaction_Very High                    -0.087830\n",
      "Name: Attrition, dtype: float64\n"
     ]
    }
   ],
   "source": [
    "# Correlation of satisfaction variables with Attrition\n",
    "\n",
    "satisfaction_cols = ['EnvironmentSatisfaction_Low', 'EnvironmentSatisfaction_Medium',\n",
    "                     'JobSatisfaction_Low', 'JobSatisfaction_Medium',\n",
    "       'JobSatisfaction_Very High', 'Manager_RelationshipSatisfaction_Low',\n",
    "       'Manager_RelationshipSatisfaction_Medium',\n",
    "       'Manager_RelationshipSatisfaction_Very High',\n",
    "       'Manager_RelationshipSatisfaction_Medium']\n",
    "\n",
    "# Calculate correlations\n",
    "satisfaction_corr = encoded_df[satisfaction_cols + ['Attrition']].corr()\n",
    "\n",
    "# Display the correlation matrix for satisfaction variables\n",
    "print(\"Correlation between satisfaction variables and Attrition:\")\n",
    "print(satisfaction_corr['Attrition'].sort_values(ascending=False))\n",
    "\n"
   ]
  },
  {
   "cell_type": "code",
   "execution_count": 14,
   "id": "676370c0-65b3-4c6e-b560-3c341e4cf1f1",
   "metadata": {},
   "outputs": [
    {
     "name": "stdout",
     "output_type": "stream",
     "text": [
      "Correlation between satisfaction variables and Attrition:\n",
      "Attrition                           1.000000\n",
      "OverTime                            0.246118\n",
      "JobRole_Sales Representative        0.157234\n",
      "BusinessTravel_Travel_Frequently    0.115143\n",
      "JobRole_Laboratory Technician       0.098290\n",
      "JobRole_Human Resources             0.036215\n",
      "JobRole_Sales Executive             0.019036\n",
      "WorkLifeBalance_Best                0.014131\n",
      "WorkLifeBalance_Good                0.011093\n",
      "JobRole_Research Scientist         -0.000360\n",
      "JobLevel_3.0                       -0.016380\n",
      "YearsSinceLastPromotion            -0.033019\n",
      "BusinessTravel_Travel_Rarely       -0.049538\n",
      "JobLevel_5.0                       -0.053566\n",
      "WorkLifeBalance_Better             -0.064301\n",
      "JobRole_Manager                    -0.082518\n",
      "JobRole_Manufacturing Director     -0.082994\n",
      "JobLevel_4.0                       -0.086461\n",
      "JobRole_Research Director          -0.088870\n",
      "JobLevel_2.0                       -0.131706\n",
      "YearsAtCompany                     -0.134392\n",
      "MonthlySalary                      -0.134477\n",
      "YearsWithCurrManager               -0.156199\n",
      "YearsInCurrentRole                 -0.160545\n",
      "Name: Attrition, dtype: float64\n"
     ]
    }
   ],
   "source": [
    "# Correlation of job related variables with Attrition\n",
    "\n",
    "job_cols = ['MonthlySalary', 'OverTime', 'WorkLifeBalance_Best',\n",
    "       'WorkLifeBalance_Better', 'WorkLifeBalance_Good','BusinessTravel_Travel_Frequently',\n",
    "       'BusinessTravel_Travel_Rarely',\n",
    "       'YearsAtCompany', 'YearsInCurrentRole',\n",
    "       'YearsSinceLastPromotion', 'YearsWithCurrManager', 'JobLevel_2.0', 'JobLevel_3.0',\n",
    "       'JobLevel_4.0', 'JobLevel_5.0', 'JobRole_Human Resources',\n",
    "       'JobRole_Laboratory Technician', 'JobRole_Manager',\n",
    "       'JobRole_Manufacturing Director', 'JobRole_Research Director',\n",
    "       'JobRole_Research Scientist', 'JobRole_Sales Executive',\n",
    "       'JobRole_Sales Representative']\n",
    "\n",
    "# Calculate correlations\n",
    "job_corr = encoded_df[job_cols + ['Attrition']].corr()\n",
    "\n",
    "# Display the correlation matrix for satisfaction variables\n",
    "print(\"Correlation between satisfaction variables and Attrition:\")\n",
    "print(job_corr['Attrition'].sort_values(ascending=False))\n",
    "\n"
   ]
  },
  {
   "cell_type": "code",
   "execution_count": 15,
   "id": "1f6821d1-f33f-4d8f-85a5-2651436400aa",
   "metadata": {},
   "outputs": [
    {
     "name": "stdout",
     "output_type": "stream",
     "text": [
      "Correlation between all variables and Attrition:\n",
      "Attrition                                     1.000000\n",
      "OverTime                                      0.246118\n",
      "MaritalStatus_Single                          0.172189\n",
      "JobRole_Sales Representative                  0.157234\n",
      "EnvironmentSatisfaction_Low                   0.122819\n",
      "BusinessTravel_Travel_Frequently              0.115143\n",
      "JobRole_Laboratory Technician                 0.098290\n",
      "JobSatisfaction_Low                           0.090329\n",
      "DistanceFromHome                              0.082528\n",
      "EducationField_Technical Degree               0.069355\n",
      "Manager_RelationshipSatisfaction_Low          0.059222\n",
      "EducationField_Marketing                      0.056899\n",
      "JobRole_Human Resources                       0.036215\n",
      "Over18                                        0.028067\n",
      "Education_Below College                       0.020777\n",
      "JobRole_Sales Executive                       0.019036\n",
      "WorkLifeBalance_Best                          0.014131\n",
      "WorkLifeBalance_Good                          0.011093\n",
      "JobSatisfaction_Medium                        0.004038\n",
      "JobRole_Research Scientist                   -0.000360\n",
      "Education_College                            -0.010840\n",
      "EnvironmentSatisfaction_Medium               -0.015267\n",
      "JobLevel_3.0                                 -0.016380\n",
      "Manager_RelationshipSatisfaction_Medium      -0.017611\n",
      "Manager_RelationshipSatisfaction_Medium      -0.017611\n",
      "EducationField_Other                         -0.020046\n",
      "Manager_RelationshipSatisfaction_Very High   -0.022940\n",
      "Education_Master                             -0.025024\n",
      "Education_Doctor                             -0.028507\n",
      "Gender_1                                     -0.028853\n",
      "YearsSinceLastPromotion                      -0.033019\n",
      "EducationField_Life Sciences                 -0.033131\n",
      "EducationField_Medical                       -0.046384\n",
      "BusinessTravel_Travel_Rarely                 -0.049538\n",
      "JobLevel_5.0                                 -0.053566\n",
      "WorkLifeBalance_Better                       -0.064301\n",
      "JobRole_Manager                              -0.082518\n",
      "JobRole_Manufacturing Director               -0.082994\n",
      "JobLevel_4.0                                 -0.086461\n",
      "JobSatisfaction_Very High                    -0.087830\n",
      "JobRole_Research Director                    -0.088870\n",
      "MaritalStatus_Married                        -0.090984\n",
      "JobLevel_2.0                                 -0.131706\n",
      "YearsAtCompany                               -0.134392\n",
      "MonthlySalary                                -0.134477\n",
      "YearsWithCurrManager                         -0.156199\n",
      "Age                                          -0.158636\n",
      "YearsInCurrentRole                           -0.160545\n",
      "Name: Attrition, dtype: float64\n"
     ]
    }
   ],
   "source": [
    "\n",
    "# Correlation of demographic variables with Attrition\n",
    "\n",
    "all_cols = ['Age', 'Over18', 'DistanceFromHome', 'Gender_1',\n",
    "       'MaritalStatus_Married', 'MaritalStatus_Single', 'Education_Below College', 'Education_College', 'Education_Doctor',\n",
    "       'Education_Master', 'EducationField_Life Sciences',\n",
    "       'EducationField_Marketing', 'EducationField_Medical',\n",
    "       'EducationField_Other', 'EducationField_Technical Degree', 'EnvironmentSatisfaction_Low', 'EnvironmentSatisfaction_Medium',\n",
    "                     'JobSatisfaction_Low', 'JobSatisfaction_Medium',\n",
    "       'JobSatisfaction_Very High', 'Manager_RelationshipSatisfaction_Low',\n",
    "       'Manager_RelationshipSatisfaction_Medium',\n",
    "       'Manager_RelationshipSatisfaction_Very High',\n",
    "       'Manager_RelationshipSatisfaction_Medium', 'MonthlySalary', 'OverTime', 'WorkLifeBalance_Best',\n",
    "       'WorkLifeBalance_Better', 'WorkLifeBalance_Good','BusinessTravel_Travel_Frequently',\n",
    "       'BusinessTravel_Travel_Rarely',\n",
    "       'YearsAtCompany', 'YearsInCurrentRole',\n",
    "       'YearsSinceLastPromotion', 'YearsWithCurrManager', 'JobLevel_2.0', 'JobLevel_3.0',\n",
    "       'JobLevel_4.0', 'JobLevel_5.0', 'JobRole_Human Resources',\n",
    "       'JobRole_Laboratory Technician', 'JobRole_Manager',\n",
    "       'JobRole_Manufacturing Director', 'JobRole_Research Director',\n",
    "       'JobRole_Research Scientist', 'JobRole_Sales Executive',\n",
    "       'JobRole_Sales Representative']\n",
    "\n",
    "# Calculate correlations\n",
    "all_cols_corr = encoded_df[all_cols + ['Attrition']].corr()\n",
    "\n",
    "# Display the correlation matrix for satisfaction variables\n",
    "print(\"Correlation between all variables and Attrition:\")\n",
    "print(all_cols_corr['Attrition'].sort_values(ascending=False))\n",
    "\n"
   ]
  },
  {
   "cell_type": "code",
   "execution_count": 16,
   "id": "b6a0b196-c68e-4d86-8c30-deb0667b5762",
   "metadata": {},
   "outputs": [],
   "source": [
    "# Select features showing maximum correlation with Attrition\n",
    "\n",
    "selected_features= ['OverTime', 'JobRole_Sales Representative', 'BusinessTravel_Travel_Frequently','JobRole_Laboratory Technician', 'JobLevel_5.0',\n",
    "                    'WorkLifeBalance_Better','JobRole_Manager', 'JobRole_Manufacturing Director', 'JobLevel_4.0', 'JobRole_Research Director', \n",
    "                    'JobLevel_2.0', 'YearsAtCompany', 'MonthlySalary', 'YearsWithCurrManager', 'YearsInCurrentRole','MaritalStatus_Single',\n",
    "                    'DistanceFromHome','EducationField_Technical Degree','EducationField_Marketing','EducationField_Medical','MaritalStatus_Married',\n",
    "                    'Age', 'EnvironmentSatisfaction_Low','JobSatisfaction_Low','JobSatisfaction_Very High','Manager_RelationshipSatisfaction_Low', 'Attrition']\n",
    "\n",
    "df_selected= encoded_df[selected_features]\n",
    "                    "
   ]
  },
  {
   "cell_type": "markdown",
   "id": "7bcf4f32-3f93-4bfb-9d02-cba1f6a95403",
   "metadata": {},
   "source": [
    "## Model Building"
   ]
  },
  {
   "cell_type": "code",
   "execution_count": 17,
   "id": "6589437d-dc7e-4c89-9090-b7f93580c521",
   "metadata": {},
   "outputs": [],
   "source": [
    "X= df_selected.drop(columns= ['Attrition'])"
   ]
  },
  {
   "cell_type": "code",
   "execution_count": 18,
   "id": "85c589e1-42c4-47c0-b084-8c9f94e7a28b",
   "metadata": {},
   "outputs": [],
   "source": [
    "y= df_selected['Attrition']"
   ]
  },
  {
   "cell_type": "code",
   "execution_count": 19,
   "id": "6b54c05d-734a-476d-a343-cf511f19583f",
   "metadata": {},
   "outputs": [
    {
     "data": {
      "text/plain": [
       "0       1\n",
       "1       1\n",
       "2       1\n",
       "3       1\n",
       "4       1\n",
       "       ..\n",
       "1465    0\n",
       "1466    0\n",
       "1467    0\n",
       "1468    0\n",
       "1469    0\n",
       "Name: Attrition, Length: 1470, dtype: int32"
      ]
     },
     "execution_count": 19,
     "metadata": {},
     "output_type": "execute_result"
    }
   ],
   "source": [
    "y"
   ]
  },
  {
   "cell_type": "code",
   "execution_count": 74,
   "id": "8838c2df-6d64-4834-82aa-65a6d6c36242",
   "metadata": {},
   "outputs": [],
   "source": [
    "#Train-test split\n",
    "\n",
    "from sklearn.model_selection import train_test_split\n",
    "\n",
    "X_train, X_test, y_train, y_test= train_test_split(X,y, test_size= 0.2,random_state= 42)"
   ]
  },
  {
   "cell_type": "code",
   "execution_count": 75,
   "id": "5d3ab2cb-3327-4027-b101-9f3a9d5ca1bc",
   "metadata": {},
   "outputs": [
    {
     "name": "stdout",
     "output_type": "stream",
     "text": [
      "Warning: Maximum number of iterations has been exceeded.\n",
      "         Current function value: 0.311177\n",
      "         Iterations: 35\n",
      "                           Logit Regression Results                           \n",
      "==============================================================================\n",
      "Dep. Variable:              Attrition   No. Observations:                 1176\n",
      "Model:                          Logit   Df Residuals:                     1149\n",
      "Method:                           MLE   Df Model:                           26\n",
      "Date:                Thu, 12 Jun 2025   Pseudo R-squ.:                  0.3094\n",
      "Time:                        15:54:55   Log-Likelihood:                -365.94\n",
      "converged:                      False   LL-Null:                       -529.86\n",
      "Covariance Type:            nonrobust   LLR p-value:                 5.497e-54\n",
      "========================================================================================================\n",
      "                                           coef    std err          z      P>|z|      [0.025      0.975]\n",
      "--------------------------------------------------------------------------------------------------------\n",
      "const                                   -2.5856      0.557     -4.640      0.000      -3.678      -1.493\n",
      "OverTime                                 1.7934      0.204      8.784      0.000       1.393       2.194\n",
      "JobRole_Sales Representative             0.8131      0.374      2.175      0.030       0.080       1.546\n",
      "BusinessTravel_Travel_Frequently         0.7288      0.220      3.307      0.001       0.297       1.161\n",
      "JobRole_Laboratory Technician            0.9034      0.249      3.631      0.000       0.416       1.391\n",
      "JobLevel_5.0                            28.1372   5.26e+05   5.34e-05      1.000   -1.03e+06    1.03e+06\n",
      "WorkLifeBalance_Better                  -0.4818      0.194     -2.481      0.013      -0.863      -0.101\n",
      "JobRole_Manager                        -29.4171   5.26e+05  -5.59e-05      1.000   -1.03e+06    1.03e+06\n",
      "JobRole_Manufacturing Director          -0.1212      0.433     -0.280      0.779      -0.970       0.727\n",
      "JobLevel_4.0                            -0.5211      0.732     -0.712      0.476      -1.955       0.913\n",
      "JobRole_Research Director              -29.0455   5.26e+05  -5.52e-05      1.000   -1.03e+06    1.03e+06\n",
      "JobLevel_2.0                            -0.9737      0.238     -4.087      0.000      -1.441      -0.507\n",
      "YearsAtCompany                           0.1079      0.033      3.224      0.001       0.042       0.173\n",
      "MonthlySalary                        -2.054e-05   5.36e-05     -0.383      0.702      -0.000    8.45e-05\n",
      "YearsWithCurrManager                    -0.1473      0.049     -3.026      0.002      -0.243      -0.052\n",
      "YearsInCurrentRole                      -0.1059      0.050     -2.112      0.035      -0.204      -0.008\n",
      "MaritalStatus_Single                     1.4659      0.283      5.172      0.000       0.910       2.021\n",
      "DistanceFromHome                         0.0304      0.011      2.756      0.006       0.009       0.052\n",
      "EducationField_Technical Degree          0.9700      0.319      3.039      0.002       0.344       1.596\n",
      "EducationField_Marketing                 1.2270      0.323      3.794      0.000       0.593       1.861\n",
      "EducationField_Medical                   0.0075      0.225      0.033      0.973      -0.433       0.448\n",
      "MaritalStatus_Married                    0.4214      0.282      1.497      0.134      -0.130       0.973\n",
      "Age                                     -0.0220      0.012     -1.799      0.072      -0.046       0.002\n",
      "EnvironmentSatisfaction_Low              1.1562      0.224      5.164      0.000       0.717       1.595\n",
      "JobSatisfaction_Low                      0.5504      0.234      2.356      0.018       0.092       1.008\n",
      "JobSatisfaction_Very High               -0.7157      0.237     -3.018      0.003      -1.180      -0.251\n",
      "Manager_RelationshipSatisfaction_Low     0.8159      0.229      3.563      0.000       0.367       1.265\n",
      "========================================================================================================\n"
     ]
    },
    {
     "name": "stderr",
     "output_type": "stream",
     "text": [
      "C:\\Users\\karis\\anaconda3\\Lib\\site-packages\\statsmodels\\base\\model.py:607: ConvergenceWarning: Maximum Likelihood optimization failed to converge. Check mle_retvals\n",
      "  warnings.warn(\"Maximum Likelihood optimization failed to \"\n"
     ]
    }
   ],
   "source": [
    "import statsmodels.api as sm\n",
    "\n",
    "# Add constant for intercept term\n",
    "\n",
    "X_train_const = sm.add_constant(X_train)\n",
    "\n",
    "# Fit the logistic regression model\n",
    "\n",
    "logit_model = sm.Logit(y_train, X_train_const)\n",
    "result = logit_model.fit()\n",
    "\n",
    "# Print the model summary\n",
    "\n",
    "print(result.summary())\n"
   ]
  },
  {
   "cell_type": "code",
   "execution_count": 76,
   "id": "511bab8c-b395-4f96-835e-9747d27c3c34",
   "metadata": {},
   "outputs": [],
   "source": [
    "\n",
    "\n",
    "# Make predictions on the train and test data\n",
    "\n",
    "y_train_pred = result.predict(sm.add_constant(X_train))\n",
    "y_test_pred = result.predict(sm.add_constant(X_test))\n",
    "\n",
    "# Convert predicted probabilities to binary outcomes (using 0.5 threshold)\n",
    "y_train_pred_bin = (y_train_pred > 0.5).astype(int)\n",
    "y_test_pred_bin = (y_test_pred > 0.5).astype(int)\n",
    "\n",
    "\n"
   ]
  },
  {
   "cell_type": "code",
   "execution_count": 77,
   "id": "9cae4489-601a-4a5a-b356-3230a801e21b",
   "metadata": {},
   "outputs": [
    {
     "data": {
      "image/png": "[encoded data removed]",
      "text/plain": [
       "<Figure size 640x480 with 1 Axes>"
      ]
     },
     "metadata": {},
     "output_type": "display_data"
    }
   ],
   "source": [
    "import matplotlib.pyplot as plt\n",
    "\n",
    "importance = result.params.abs().sort_values(ascending=False)\n",
    "importance.plot(kind='barh', title='Logistic Regression Feature Importance')\n",
    "plt.tight_layout()\n",
    "plt.show()"
   ]
  },
  {
   "cell_type": "code",
   "execution_count": 78,
   "id": "d28fa4c6-dd76-43aa-b75e-790cd479d6d3",
   "metadata": {},
   "outputs": [],
   "source": [
    "from sklearn.metrics import confusion_matrix, classification_report, roc_auc_score, roc_curve\n",
    "import matplotlib.pyplot as plt"
   ]
  },
  {
   "cell_type": "markdown",
   "id": "c22fee93-ad68-4905-8394-e3547347e2f7",
   "metadata": {},
   "source": [
    "### Calculate goodness of fit metrices\n",
    "### Validate the model by comparing performance metrics (confusion matrix, classification report, ROC-AUC score) on both the train and test data. \n"
   ]
  },
  {
   "cell_type": "code",
   "execution_count": 79,
   "id": "122bfa5f-f0d2-4a0d-a06d-52144bbc4d13",
   "metadata": {},
   "outputs": [
    {
     "name": "stdout",
     "output_type": "stream",
     "text": [
      "Train Confusion Matrix:\n",
      "[[956  24]\n",
      " [116  80]]\n",
      "Test Confusion Matrix:\n",
      "[[243  10]\n",
      " [ 32   9]]\n"
     ]
    }
   ],
   "source": [
    "# Confusion matrix\n",
    "print(\"Train Confusion Matrix:\")\n",
    "print(confusion_matrix(y_train, y_train_pred_bin))\n",
    "print(\"Test Confusion Matrix:\")\n",
    "print(confusion_matrix(y_test, y_test_pred_bin))\n",
    "\n"
   ]
  },
  {
   "cell_type": "code",
   "execution_count": 80,
   "id": "a20ae145-540a-47c8-9077-d1f41a817655",
   "metadata": {},
   "outputs": [
    {
     "name": "stdout",
     "output_type": "stream",
     "text": [
      "Train Classification Report:\n",
      "              precision    recall  f1-score   support\n",
      "\n",
      "           0       0.89      0.98      0.93       980\n",
      "           1       0.77      0.41      0.53       196\n",
      "\n",
      "    accuracy                           0.88      1176\n",
      "   macro avg       0.83      0.69      0.73      1176\n",
      "weighted avg       0.87      0.88      0.87      1176\n",
      "\n",
      "Test Classification Report:\n",
      "              precision    recall  f1-score   support\n",
      "\n",
      "           0       0.88      0.96      0.92       253\n",
      "           1       0.47      0.22      0.30        41\n",
      "\n",
      "    accuracy                           0.86       294\n",
      "   macro avg       0.68      0.59      0.61       294\n",
      "weighted avg       0.83      0.86      0.83       294\n",
      "\n"
     ]
    }
   ],
   "source": [
    "# Classification report\n",
    "print(\"Train Classification Report:\")\n",
    "print(classification_report(y_train, y_train_pred_bin))\n",
    "print(\"Test Classification Report:\")\n",
    "print(classification_report(y_test, y_test_pred_bin))\n",
    "\n"
   ]
  },
  {
   "cell_type": "code",
   "execution_count": 81,
   "id": "c19f515c-ca6e-4277-b6d4-9de6028fa0ae",
   "metadata": {},
   "outputs": [
    {
     "name": "stdout",
     "output_type": "stream",
     "text": [
      "Train ROC-AUC score: 0.8551697209496044\n",
      "Test ROC-AUC score: 0.7901282174877085\n"
     ]
    }
   ],
   "source": [
    "# ROC-AUC score\n",
    "train_roc_auc = roc_auc_score(y_train, y_train_pred)\n",
    "test_roc_auc = roc_auc_score(y_test, y_test_pred)\n",
    "print(f\"Train ROC-AUC score: {train_roc_auc}\")\n",
    "print(f\"Test ROC-AUC score: {test_roc_auc}\")\n",
    "\n"
   ]
  },
  {
   "cell_type": "code",
   "execution_count": 82,
   "id": "f4abeaf5-ec9d-429b-9dca-7cf04df48d43",
   "metadata": {},
   "outputs": [],
   "source": [
    "# ROC Curve\n",
    "fpr_train, tpr_train, thresholds_train = roc_curve(y_train, y_train_pred)\n",
    "fpr_test, tpr_test, thresholds_test = roc_curve(y_test, y_test_pred)\n",
    "\n"
   ]
  },
  {
   "cell_type": "code",
   "execution_count": 83,
   "id": "de3e5454-7896-48bf-8173-8f4ae4a4a35e",
   "metadata": {},
   "outputs": [
    {
     "data": {
      "image/png": "[encoded data removed]",
      "text/plain": [
       "<Figure size 640x480 with 1 Axes>"
      ]
     },
     "metadata": {},
     "output_type": "display_data"
    }
   ],
   "source": [
    "\n",
    "plt.figure()\n",
    "plt.plot(fpr_train, tpr_train, color='blue', label='Train ROC curve (area = %0.2f)' % train_roc_auc)\n",
    "plt.plot(fpr_test, tpr_test, color='red', label='Test ROC curve (area = %0.2f)' % test_roc_auc)\n",
    "plt.plot([0, 1], [0, 1], color='gray', linestyle='--')\n",
    "plt.xlabel('False Positive Rate')\n",
    "plt.ylabel('True Positive Rate')\n",
    "plt.title('Receiver Operating Characteristic (ROC) Curve')\n",
    "plt.legend(loc='lower right')\n",
    "plt.show()"
   ]
  },
  {
   "cell_type": "markdown",
   "id": "60ac1c84-4d49-4ee5-a9ad-e86f1c379e53",
   "metadata": {},
   "source": [
    "### Resampling using SMOTE as data is imbalanced"
   ]
  },
  {
   "cell_type": "code",
   "execution_count": 84,
   "id": "bea81c0a-e98b-4748-9a1c-a22afffc2aba",
   "metadata": {},
   "outputs": [
    {
     "name": "stdout",
     "output_type": "stream",
     "text": [
      "Optimization terminated successfully.\n",
      "         Current function value: 0.390212\n",
      "         Iterations 9\n",
      "                           Logit Regression Results                           \n",
      "==============================================================================\n",
      "Dep. Variable:              Attrition   No. Observations:                 1176\n",
      "Model:                          Logit   Df Residuals:                     1149\n",
      "Method:                           MLE   Df Model:                           26\n",
      "Date:                Thu, 12 Jun 2025   Pseudo R-squ.:                  0.3094\n",
      "Time:                        15:55:03   Log-Likelihood:                -365.94\n",
      "converged:                      False   LL-Null:                       -529.86\n",
      "Covariance Type:            nonrobust   LLR p-value:                 5.497e-54\n",
      "========================================================================================================\n",
      "                                           coef    std err          z      P>|z|      [0.025      0.975]\n",
      "--------------------------------------------------------------------------------------------------------\n",
      "const                                   -2.5856      0.557     -4.640      0.000      -3.678      -1.493\n",
      "OverTime                                 1.7934      0.204      8.784      0.000       1.393       2.194\n",
      "JobRole_Sales Representative             0.8131      0.374      2.175      0.030       0.080       1.546\n",
      "BusinessTravel_Travel_Frequently         0.7288      0.220      3.307      0.001       0.297       1.161\n",
      "JobRole_Laboratory Technician            0.9034      0.249      3.631      0.000       0.416       1.391\n",
      "JobLevel_5.0                            28.1372   5.26e+05   5.34e-05      1.000   -1.03e+06    1.03e+06\n",
      "WorkLifeBalance_Better                  -0.4818      0.194     -2.481      0.013      -0.863      -0.101\n",
      "JobRole_Manager                        -29.4171   5.26e+05  -5.59e-05      1.000   -1.03e+06    1.03e+06\n",
      "JobRole_Manufacturing Director          -0.1212      0.433     -0.280      0.779      -0.970       0.727\n",
      "JobLevel_4.0                            -0.5211      0.732     -0.712      0.476      -1.955       0.913\n",
      "JobRole_Research Director              -29.0455   5.26e+05  -5.52e-05      1.000   -1.03e+06    1.03e+06\n",
      "JobLevel_2.0                            -0.9737      0.238     -4.087      0.000      -1.441      -0.507\n",
      "YearsAtCompany                           0.1079      0.033      3.224      0.001       0.042       0.173\n",
      "MonthlySalary                        -2.054e-05   5.36e-05     -0.383      0.702      -0.000    8.45e-05\n",
      "YearsWithCurrManager                    -0.1473      0.049     -3.026      0.002      -0.243      -0.052\n",
      "YearsInCurrentRole                      -0.1059      0.050     -2.112      0.035      -0.204      -0.008\n",
      "MaritalStatus_Single                     1.4659      0.283      5.172      0.000       0.910       2.021\n",
      "DistanceFromHome                         0.0304      0.011      2.756      0.006       0.009       0.052\n",
      "EducationField_Technical Degree          0.9700      0.319      3.039      0.002       0.344       1.596\n",
      "EducationField_Marketing                 1.2270      0.323      3.794      0.000       0.593       1.861\n",
      "EducationField_Medical                   0.0075      0.225      0.033      0.973      -0.433       0.448\n",
      "MaritalStatus_Married                    0.4214      0.282      1.497      0.134      -0.130       0.973\n",
      "Age                                     -0.0220      0.012     -1.799      0.072      -0.046       0.002\n",
      "EnvironmentSatisfaction_Low              1.1562      0.224      5.164      0.000       0.717       1.595\n",
      "JobSatisfaction_Low                      0.5504      0.234      2.356      0.018       0.092       1.008\n",
      "JobSatisfaction_Very High               -0.7157      0.237     -3.018      0.003      -1.180      -0.251\n",
      "Manager_RelationshipSatisfaction_Low     0.8159      0.229      3.563      0.000       0.367       1.265\n",
      "========================================================================================================\n"
     ]
    }
   ],
   "source": [
    "from imblearn.over_sampling import SMOTE\n",
    "\n",
    "# Resample after splitting\n",
    "X_train, X_test, y_train, y_test = train_test_split(X, y, stratify=y, test_size=0.2, random_state=42)\n",
    "\n",
    "# Apply SMOTE to training data only\n",
    "smote = SMOTE(random_state=42)\n",
    "X_train_resampled, y_train_resampled = smote.fit_resample(X_train, y_train)\n",
    "\n",
    "# Add constant\n",
    "X_train_const = sm.add_constant(X_train_resampled)\n",
    "X_test_const=sm.add_constant(X_test)\n",
    "\n",
    "# Fit the model\n",
    "logit_model1 = sm.Logit(y_train_resampled, X_train_const)\n",
    "result1 = logit_model1.fit()\n",
    "\n",
    "# Summary\n",
    "print(result.summary())\n"
   ]
  },
  {
   "cell_type": "code",
   "execution_count": 85,
   "id": "a95d57a9-a6cc-4247-bee8-b90535c3de9a",
   "metadata": {},
   "outputs": [
    {
     "name": "stdout",
     "output_type": "stream",
     "text": [
      "(1176, 26)\n",
      "(1176,)\n",
      "(1972, 26)\n",
      "(1972,)\n"
     ]
    }
   ],
   "source": [
    "print(X_train.shape)\n",
    "print(y_train.shape)\n",
    "print(X_train_resampled.shape)\n",
    "print(y_train_resampled.shape)"
   ]
  },
  {
   "cell_type": "code",
   "execution_count": 86,
   "id": "522eb7c3-a72f-4028-91c6-436eb283845d",
   "metadata": {},
   "outputs": [],
   "source": [
    "\n",
    "\n",
    "# Make predictions on the train and test data\n",
    "\n",
    "y_train_pred1 = result1.predict(X_train_const)\n",
    "y_test_pred1 = result1.predict(X_test_const)\n",
    "\n",
    "# Convert predicted probabilities to binary outcomes (using 0.5 threshold)\n",
    "y_train_pred_bin1 = (y_train_pred1 > 0.5).astype(int)\n",
    "y_test_pred_bin1 = (y_test_pred1 > 0.5).astype(int)\n",
    "\n",
    "\n"
   ]
  },
  {
   "cell_type": "code",
   "execution_count": 91,
   "id": "4784c70b-635d-4109-99da-b3a8ec65912e",
   "metadata": {},
   "outputs": [
    {
     "name": "stdout",
     "output_type": "stream",
     "text": [
      "Train Confusion Matrix:\n",
      "[[807 179]\n",
      " [162 824]]\n",
      "Test Confusion Matrix:\n",
      "[[190  57]\n",
      " [ 26  21]]\n"
     ]
    }
   ],
   "source": [
    "# Confusion matrix\n",
    "print(\"Train Confusion Matrix:\")\n",
    "print(confusion_matrix(y_train_resampled, y_train_pred_bin1))\n",
    "print(\"Test Confusion Matrix:\")\n",
    "print(confusion_matrix(y_test, y_test_pred_bin1))\n",
    "\n"
   ]
  },
  {
   "cell_type": "code",
   "execution_count": 92,
   "id": "392b3ace-859f-44ce-a69d-e18e2b53d1b6",
   "metadata": {},
   "outputs": [
    {
     "name": "stdout",
     "output_type": "stream",
     "text": [
      "Train Classification Report:\n",
      "              precision    recall  f1-score   support\n",
      "\n",
      "           0       0.83      0.82      0.83       986\n",
      "           1       0.82      0.84      0.83       986\n",
      "\n",
      "    accuracy                           0.83      1972\n",
      "   macro avg       0.83      0.83      0.83      1972\n",
      "weighted avg       0.83      0.83      0.83      1972\n",
      "\n",
      "Test Classification Report:\n",
      "              precision    recall  f1-score   support\n",
      "\n",
      "           0       0.88      0.77      0.82       247\n",
      "           1       0.27      0.45      0.34        47\n",
      "\n",
      "    accuracy                           0.72       294\n",
      "   macro avg       0.57      0.61      0.58       294\n",
      "weighted avg       0.78      0.72      0.74       294\n",
      "\n"
     ]
    }
   ],
   "source": [
    "# Classification report\n",
    "print(\"Train Classification Report:\")\n",
    "print(classification_report(y_train_resampled, y_train_pred_bin1))\n",
    "print(\"Test Classification Report:\")\n",
    "print(classification_report(y_test, y_test_pred_bin1))\n",
    "\n"
   ]
  },
  {
   "cell_type": "code",
   "execution_count": 93,
   "id": "0e34dac4-7a48-45f2-a9a1-4c99b5bd8995",
   "metadata": {},
   "outputs": [],
   "source": [
    "# ROC Curve\n",
    "fpr_train, tpr_train, thresholds_train = roc_curve(y_train_resampled, y_train_pred1)\n",
    "fpr_test, tpr_test, thresholds_test = roc_curve(y_test, y_test_pred1)\n",
    "\n"
   ]
  },
  {
   "cell_type": "code",
   "execution_count": 94,
   "id": "15289164-58c4-415a-ba0f-b60aab4fe46f",
   "metadata": {},
   "outputs": [
    {
     "data": {
      "image/png": "[encoded data removed]",
      "text/plain": [
       "<Figure size 640x480 with 1 Axes>"
      ]
     },
     "metadata": {},
     "output_type": "display_data"
    }
   ],
   "source": [
    "\n",
    "plt.figure()\n",
    "plt.plot(fpr_train, tpr_train, color='blue', label='Train ROC curve (area = %0.2f)' % train_roc_auc)\n",
    "plt.plot(fpr_test, tpr_test, color='red', label='Test ROC curve (area = %0.2f)' % test_roc_auc)\n",
    "plt.plot([0, 1], [0, 1], color='gray', linestyle='--')\n",
    "plt.xlabel('False Positive Rate')\n",
    "plt.ylabel('True Positive Rate')\n",
    "plt.title('Receiver Operating Characteristic (ROC) Curve')\n",
    "plt.legend(loc='lower right')\n",
    "plt.show()"
   ]
  },
  {
   "cell_type": "code",
   "execution_count": null,
   "id": "d5acc1c8-a156-4117-96e4-a7bf090f1116",
   "metadata": {},
   "outputs": [],
   "source": []
  },
  {
   "cell_type": "code",
   "execution_count": 100,
   "id": "770d2737-2318-44cc-9f2d-3c29ac51b982",
   "metadata": {},
   "outputs": [
    {
     "data": {
      "text/html": [
       "<style>#sk-container-id-2 {color: black;background-color: white;}#sk-container-id-2 pre{padding: 0;}#sk-container-id-2 div.sk-toggleable {background-color: white;}#sk-container-id-2 label.sk-toggleable__label {cursor: pointer;display: block;width: 100%;margin-bottom: 0;padding: 0.3em;box-sizing: border-box;text-align: center;}#sk-container-id-2 label.sk-toggleable__label-arrow:before {content: \"▸\";float: left;margin-right: 0.25em;color: #696969;}#sk-container-id-2 label.sk-toggleable__label-arrow:hover:before {color: black;}#sk-container-id-2 div.sk-estimator:hover label.sk-toggleable__label-arrow:before {color: black;}#sk-container-id-2 div.sk-toggleable__content {max-height: 0;max-width: 0;overflow: hidden;text-align: left;background-color: #f0f8ff;}#sk-container-id-2 div.sk-toggleable__content pre {margin: 0.2em;color: black;border-radius: 0.25em;background-color: #f0f8ff;}#sk-container-id-2 input.sk-toggleable__control:checked~div.sk-toggleable__content {max-height: 200px;max-width: 100%;overflow: auto;}#sk-container-id-2 input.sk-toggleable__control:checked~label.sk-toggleable__label-arrow:before {content: \"▾\";}#sk-container-id-2 div.sk-estimator input.sk-toggleable__control:checked~label.sk-toggleable__label {background-color: #d4ebff;}#sk-container-id-2 div.sk-label input.sk-toggleable__control:checked~label.sk-toggleable__label {background-color: #d4ebff;}#sk-container-id-2 input.sk-hidden--visually {border: 0;clip: rect(1px 1px 1px 1px);clip: rect(1px, 1px, 1px, 1px);height: 1px;margin: -1px;overflow: hidden;padding: 0;position: absolute;width: 1px;}#sk-container-id-2 div.sk-estimator {font-family: monospace;background-color: #f0f8ff;border: 1px dotted black;border-radius: 0.25em;box-sizing: border-box;margin-bottom: 0.5em;}#sk-container-id-2 div.sk-estimator:hover {background-color: #d4ebff;}#sk-container-id-2 div.sk-parallel-item::after {content: \"\";width: 100%;border-bottom: 1px solid gray;flex-grow: 1;}#sk-container-id-2 div.sk-label:hover label.sk-toggleable__label {background-color: #d4ebff;}#sk-container-id-2 div.sk-serial::before {content: \"\";position: absolute;border-left: 1px solid gray;box-sizing: border-box;top: 0;bottom: 0;left: 50%;z-index: 0;}#sk-container-id-2 div.sk-serial {display: flex;flex-direction: column;align-items: center;background-color: white;padding-right: 0.2em;padding-left: 0.2em;position: relative;}#sk-container-id-2 div.sk-item {position: relative;z-index: 1;}#sk-container-id-2 div.sk-parallel {display: flex;align-items: stretch;justify-content: center;background-color: white;position: relative;}#sk-container-id-2 div.sk-item::before, #sk-container-id-2 div.sk-parallel-item::before {content: \"\";position: absolute;border-left: 1px solid gray;box-sizing: border-box;top: 0;bottom: 0;left: 50%;z-index: -1;}#sk-container-id-2 div.sk-parallel-item {display: flex;flex-direction: column;z-index: 1;position: relative;background-color: white;}#sk-container-id-2 div.sk-parallel-item:first-child::after {align-self: flex-end;width: 50%;}#sk-container-id-2 div.sk-parallel-item:last-child::after {align-self: flex-start;width: 50%;}#sk-container-id-2 div.sk-parallel-item:only-child::after {width: 0;}#sk-container-id-2 div.sk-dashed-wrapped {border: 1px dashed gray;margin: 0 0.4em 0.5em 0.4em;box-sizing: border-box;padding-bottom: 0.4em;background-color: white;}#sk-container-id-2 div.sk-label label {font-family: monospace;font-weight: bold;display: inline-block;line-height: 1.2em;}#sk-container-id-2 div.sk-label-container {text-align: center;}#sk-container-id-2 div.sk-container {/* jupyter's `normalize.less` sets `[hidden] { display: none; }` but bootstrap.min.css set `[hidden] { display: none !important; }` so we also need the `!important` here to be able to override the default hidden behavior on the sphinx rendered scikit-learn.org. See: https://github.com/scikit-learn/scikit-learn/issues/21755 */display: inline-block !important;position: relative;}#sk-container-id-2 div.sk-text-repr-fallback {display: none;}</style><div id=\"sk-container-id-2\" class=\"sk-top-container\"><div class=\"sk-text-repr-fallback\"><pre>RandomForestClassifier(class_weight=&#x27;balanced&#x27;, random_state=42)</pre><b>In a Jupyter environment, please rerun this cell to show the HTML representation or trust the notebook. <br />On GitHub, the HTML representation is unable to render, please try loading this page with nbviewer.org.</b></div><div class=\"sk-container\" hidden><div class=\"sk-item\"><div class=\"sk-estimator sk-toggleable\"><input class=\"sk-toggleable__control sk-hidden--visually\" id=\"sk-estimator-id-2\" type=\"checkbox\" checked><label for=\"sk-estimator-id-2\" class=\"sk-toggleable__label sk-toggleable__label-arrow\">RandomForestClassifier</label><div class=\"sk-toggleable__content\"><pre>RandomForestClassifier(class_weight=&#x27;balanced&#x27;, random_state=42)</pre></div></div></div></div></div>"
      ],
      "text/plain": [
       "RandomForestClassifier(class_weight='balanced', random_state=42)"
      ]
     },
     "execution_count": 100,
     "metadata": {},
     "output_type": "execute_result"
    }
   ],
   "source": [
    "from sklearn.ensemble import RandomForestClassifier\n",
    "\n",
    "rf = RandomForestClassifier(random_state=42, class_weight='balanced')\n",
    "rf.fit(X_train_resampled, y_train_resampled)\n"
   ]
  },
  {
   "cell_type": "code",
   "execution_count": 101,
   "id": "b718c8cc-62bd-44ed-a6d6-c573fd1267a7",
   "metadata": {},
   "outputs": [],
   "source": [
    "\n",
    "# Make predictions on the train and test data\n",
    "\n",
    "y_pred = rf.predict(X_test)\n"
   ]
  },
  {
   "cell_type": "code",
   "execution_count": null,
   "id": "ce6404b6-eac1-4e64-8b3d-87a51742e2b8",
   "metadata": {},
   "outputs": [],
   "source": []
  },
  {
   "cell_type": "code",
   "execution_count": null,
   "id": "333fc0aa-73de-4cb6-a24b-463c060ef271",
   "metadata": {},
   "outputs": [],
   "source": []
  },
  {
   "cell_type": "code",
   "execution_count": null,
   "id": "9de23faf-0b5f-49f1-b784-cb794d5dac2c",
   "metadata": {},
   "outputs": [],
   "source": []
  },
  {
   "cell_type": "code",
   "execution_count": null,
   "id": "3cf2a819-aa42-485a-a4b9-74378035b88c",
   "metadata": {},
   "outputs": [],
   "source": []
  },
  {
   "cell_type": "code",
   "execution_count": null,
   "id": "4c37e02f-4ed0-44ce-b4ce-a14bd1a7631d",
   "metadata": {},
   "outputs": [],
   "source": []
  },
  {
   "cell_type": "code",
   "execution_count": null,
   "id": "27511bf5-86b1-466f-8a2a-ae60e0bfdb0c",
   "metadata": {},
   "outputs": [],
   "source": []
  },
  {
   "cell_type": "code",
   "execution_count": null,
   "id": "78e40697-cfc0-420b-85c3-22d3a979f8b9",
   "metadata": {},
   "outputs": [],
   "source": []
  },
  {
   "cell_type": "code",
   "execution_count": null,
   "id": "c336079b-7be4-46d0-aa66-2807db8a5f2b",
   "metadata": {},
   "outputs": [],
   "source": []
  },
  {
   "cell_type": "code",
   "execution_count": null,
   "id": "2f4a91ea-150b-41c1-bd98-3c0d581fc009",
   "metadata": {},
   "outputs": [],
   "source": []
  },
  {
   "cell_type": "code",
   "execution_count": null,
   "id": "9095e1f7-1ba9-4898-a358-5071af88c7f4",
   "metadata": {},
   "outputs": [],
   "source": []
  },
  {
   "cell_type": "code",
   "execution_count": null,
   "id": "617238cf-9112-455f-834a-996ff39ede73",
   "metadata": {},
   "outputs": [],
   "source": []
  },
  {
   "cell_type": "code",
   "execution_count": null,
   "id": "3a50f27c-0ac4-4e06-95d8-5b25a90e36b1",
   "metadata": {},
   "outputs": [],
   "source": []
  },
  {
   "cell_type": "code",
   "execution_count": null,
   "id": "164f42fd-360f-4a4b-8078-e1e409568b3c",
   "metadata": {},
   "outputs": [],
   "source": []
  },
  {
   "cell_type": "code",
   "execution_count": null,
   "id": "5729ed39-aaaf-4c38-ad9c-6e01969d7dad",
   "metadata": {},
   "outputs": [],
   "source": []
  },
  {
   "cell_type": "code",
   "execution_count": 24,
   "id": "0f843bc6-137c-4509-a7e5-22a72dfab516",
   "metadata": {},
   "outputs": [],
   "source": []
  },
  {
   "cell_type": "code",
   "execution_count": null,
   "id": "5500ec36-a238-4dd6-a8e8-29e149fd02fc",
   "metadata": {},
   "outputs": [],
   "source": []
  },
  {
   "cell_type": "code",
   "execution_count": null,
   "id": "9348a40a-509f-490b-ac1a-fcb2173561a4",
   "metadata": {},
   "outputs": [],
   "source": []
  },
  {
   "cell_type": "code",
   "execution_count": null,
   "id": "c36f6f2a-abf9-405b-9db8-760571b55b8f",
   "metadata": {},
   "outputs": [],
   "source": []
  },
  {
   "cell_type": "code",
   "execution_count": null,
   "id": "53ca14ac-779d-4876-9695-55c19bda9847",
   "metadata": {},
   "outputs": [],
   "source": []
  },
  {
   "cell_type": "code",
   "execution_count": null,
   "id": "3c96ab68-5960-4ea0-8868-f2f6875ffe99",
   "metadata": {},
   "outputs": [],
   "source": []
  },
  {
   "cell_type": "code",
   "execution_count": null,
   "id": "307d8a88-9b92-4255-b149-7baea4b2ebf4",
   "metadata": {},
   "outputs": [],
   "source": []
  },
  {
   "cell_type": "code",
   "execution_count": null,
   "id": "bc0b16c1-b2b7-492f-95fe-ff878dfeb4c8",
   "metadata": {},
   "outputs": [],
   "source": []
  },
  {
   "cell_type": "code",
   "execution_count": null,
   "id": "fd390107-4518-4410-bab2-5347b98e96f2",
   "metadata": {},
   "outputs": [],
   "source": []
  },
  {
   "cell_type": "code",
   "execution_count": null,
   "id": "4f0d81ac-e75e-47e9-acbf-e8ac0f25ff1a",
   "metadata": {},
   "outputs": [],
   "source": []
  },
  {
   "cell_type": "code",
   "execution_count": null,
   "id": "1f3b5898-f593-4c46-8391-a90ee18c5cf7",
   "metadata": {},
   "outputs": [],
   "source": []
  },
  {
   "cell_type": "code",
   "execution_count": null,
   "id": "4046f22a-92b2-48f4-a8c6-ede87336f7f0",
   "metadata": {},
   "outputs": [],
   "source": []
  },
  {
   "cell_type": "code",
   "execution_count": null,
   "id": "c3b146a0-f532-4407-870f-db00aa67441c",
   "metadata": {},
   "outputs": [],
   "source": []
  },
  {
   "cell_type": "code",
   "execution_count": null,
   "id": "e34ab385-f8d4-4832-b5f0-5177611494fe",
   "metadata": {},
   "outputs": [],
   "source": []
  }
 ],
 "metadata": {
  "kernelspec": {
   "display_name": "Python 3 (ipykernel)",
   "language": "python",
   "name": "python3"
  },
  "language_info": {
   "codemirror_mode": {
    "name": "ipython",
    "version": 3
   },
   "file_extension": ".py",
   "mimetype": "text/x-python",
   "name": "python",
   "nbconvert_exporter": "python",
   "pygments_lexer": "ipython3",
   "version": "3.11.7"
  }
 },
 "nbformat": 4,
 "nbformat_minor": 5
}
